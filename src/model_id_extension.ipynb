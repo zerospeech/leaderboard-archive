{
 "cells": [
  {
   "cell_type": "markdown",
   "source": [
    "A universal (cross challenge & benchmark) model id was introduced to allow reference for a model that has been used in multiple benchmarks.\n",
    "The following code is a code that allows to match each entry in the leaderboard with the corresponding model_id and associate publication\n",
    "information (authors, title, year, reference, etc...) to be added to each entry, this information exist on a google sheet that was created manually\n",
    "from the zerospeech resume paper.\n",
    "\n",
    "The model_id's where manually added to each json entry.\n",
    "Each cell in this notebook allows adding data for all the entries in a specific leaderboard.\n",
    "A Copy of the leaderboard file is created for safety reason and can be deleted afterwards."
   ],
   "metadata": {
    "collapsed": false,
    "pycharm": {
     "name": "#%% md\n"
    }
   }
  },
  {
   "cell_type": "code",
   "execution_count": 3,
   "outputs": [
    {
     "name": "stdout",
     "output_type": "stream",
     "text": [
      "COMPLETE: Data copied\n"
     ]
    }
   ],
   "source": [
    "# Pull Registry from Google Sheets (Requires Auth)\n",
    "from  dataloader.registry import refresh_registry\n",
    "\n",
    "refresh_registry()"
   ],
   "metadata": {
    "collapsed": false,
    "pycharm": {
     "name": "#%%\n"
    }
   }
  },
  {
   "cell_type": "code",
   "execution_count": 1,
   "outputs": [],
   "source": [
    "# Load Registry\n",
    "import json\n",
    "from pathlib import Path\n",
    "from dataloader.registry import load_registry_as_dict\n",
    "from dataloader.convert import add_external_info\n",
    "\n",
    "# Load Registry\n",
    "reg = load_registry_as_dict()"
   ],
   "metadata": {
    "collapsed": false,
    "pycharm": {
     "name": "#%%\n"
    }
   }
  },
  {
   "cell_type": "code",
   "execution_count": 7,
   "outputs": [
    {
     "name": "stdout",
     "output_type": "stream",
     "text": [
      "No registry data found for topline15a\n",
      "No registry data found for baseline15a\n",
      "No registry data found for baseline15b\n"
     ]
    }
   ],
   "source": [
    "# extend abx15 with data from model registry\n",
    "from dataloader.models import ABX15\n",
    "\n",
    "\n",
    "with Path(\"data/archived/abx15.json\").open() as fp:\n",
    "    leaderboardABX15 = ABX15(**json.load(fp))\n",
    "\n",
    "# Update entries with info from registry\n",
    "add_external_info(leaderboardABX15, reg)\n",
    "\n",
    "with Path(\"data/abx15-latest.json\").open('w') as fp:\n",
    "    fp.write(leaderboardABX15.json(indent=4))"
   ],
   "metadata": {
    "collapsed": false,
    "pycharm": {
     "name": "#%%\n"
    }
   }
  },
  {
   "cell_type": "code",
   "execution_count": 22,
   "outputs": [
    {
     "name": "stdout",
     "output_type": "stream",
     "text": [
      "No registry data found for baseline17a\n",
      "No registry data found for topline17a\n"
     ]
    }
   ],
   "source": [
    "# extend abx17 with data from model registry\n",
    "from dataloader.models import ABX17\n",
    "\n",
    "with Path(\"data/archived/abx17.json\").open() as fp:\n",
    "    leaderboardABX17 = ABX17(**json.load(fp))\n",
    "\n",
    "# Update info\n",
    "add_external_info(leaderboardABX17, reg)\n",
    "\n",
    "with Path(\"data/abx17-extended.json\").open('w') as fp:\n",
    "    fp.write(leaderboardABX17.json(indent=4))"
   ],
   "metadata": {
    "collapsed": false,
    "pycharm": {
     "name": "#%%\n"
    }
   }
  },
  {
   "cell_type": "code",
   "execution_count": 7,
   "outputs": [
    {
     "name": "stdout",
     "output_type": "stream",
     "text": [
      "No registry data found for topline15b\n"
     ]
    }
   ],
   "source": [
    "# extend TDE-15 with data from model registry\n",
    "from dataloader.models import TDE15\n",
    "\n",
    "with Path(\"data/archived/tde15.json\").open() as fp:\n",
    "    leaderboardTDE15 = TDE15(**json.load(fp))\n",
    "\n",
    "# Update info\n",
    "add_external_info(leaderboardTDE15, reg)\n",
    "\n",
    "with Path(\"data/tde15-latest.json\").open('w') as fp:\n",
    "    fp.write(leaderboardTDE15.json(indent=4))"
   ],
   "metadata": {
    "collapsed": false,
    "pycharm": {
     "name": "#%%\n"
    }
   }
  },
  {
   "cell_type": "code",
   "execution_count": 10,
   "outputs": [
    {
     "name": "stdout",
     "output_type": "stream",
     "text": [
      "No registry data found for baseline20a\n"
     ]
    }
   ],
   "source": [
    "# extend TDE-17 with data from model registry\n",
    "from dataloader.models import TDE17\n",
    "\n",
    "with Path(\"data/archived/tde17.json\").open() as fp:\n",
    "    leaderboardTDE17 = TDE17(**json.load(fp))\n",
    "\n",
    "# Update info\n",
    "add_external_info(leaderboardTDE17, reg)\n",
    "\n",
    "with Path(\"data/tde17-latest.json\").open('w') as fp:\n",
    "    fp.write(leaderboardTDE17.json(indent=4))"
   ],
   "metadata": {
    "collapsed": false,
    "pycharm": {
     "name": "#%%\n"
    }
   }
  },
  {
   "cell_type": "code",
   "execution_count": 11,
   "outputs": [
    {
     "name": "stdout",
     "output_type": "stream",
     "text": [
      "No registry data found for topline19a\n",
      "No registry data found for topline20a\n",
      "No registry data found for Liu20\n",
      "No registry data found for baseline20a\n"
     ]
    }
   ],
   "source": [
    "# extend TTS019 with data from model registry\n",
    "from dataloader.models import TTS019\n",
    "\n",
    "with Path(\"data/archived/tts019.json\").open() as fp:\n",
    "    leaderboardTTS019 = TTS019(**json.load(fp))\n",
    "\n",
    "# Update info\n",
    "add_external_info(leaderboardTTS019, reg)\n",
    "\n",
    "with Path(\"data/tts019-latest.json\").open('w') as fp:\n",
    "     fp.write(leaderboardTTS019.json(indent=4))"
   ],
   "metadata": {
    "collapsed": false,
    "pycharm": {
     "name": "#%%\n"
    }
   }
  },
  {
   "cell_type": "code",
   "execution_count": 3,
   "outputs": [
    {
     "name": "stdout",
     "output_type": "stream",
     "text": [
      "No registry data found for baseline21a\n",
      "No registry data found for topline21a\n",
      "No registry data found for topline21b\n",
      "No registry data found for topline21c\n"
     ]
    }
   ],
   "source": [
    "# extend abxLS with data from model registry\n",
    "from dataloader.models import ABXLS\n",
    "\n",
    "with Path(\"data/archived/abxLS.json\").open() as fp:\n",
    "    leaderboardABXLS = ABXLS(**json.load(fp))\n",
    "\n",
    "# Update info\n",
    "add_external_info(leaderboardABXLS, reg)\n",
    "\n",
    "# sort items\n",
    "leaderboardABXLS.sort_by(\"index\")\n",
    "\n",
    "with Path(\"data/abxLS-latest.json\").open('w') as fp:\n",
    "     fp.write(leaderboardABXLS.json(indent=4))"
   ],
   "metadata": {
    "collapsed": false,
    "pycharm": {
     "name": "#%%\n"
    }
   }
  },
  {
   "cell_type": "code",
   "execution_count": 2,
   "outputs": [
    {
     "name": "stdout",
     "output_type": "stream",
     "text": [
      "No registry data found for baseline21a\n",
      "No registry data found for topline21a\n",
      "No registry data found for topline21b\n",
      "No registry data found for topline21c\n"
     ]
    }
   ],
   "source": [
    "# extend sLM21 with data from model registry\n",
    "from dataloader.models import SLM21\n",
    "\n",
    "with Path(\"data/archived/sLM21.json\").open() as fp:\n",
    "    leaderboardsLM21 = SLM21(**json.load(fp))\n",
    "\n",
    "# Update info\n",
    "add_external_info(leaderboardsLM21, reg)\n",
    "# sort items\n",
    "leaderboardsLM21.sort_by(\"index\")\n",
    "\n",
    "with Path(\"data/sLM21-latest.json\").open('w') as fp:\n",
    "    fp.write(leaderboardsLM21.json(indent=4))"
   ],
   "metadata": {
    "collapsed": false,
    "pycharm": {
     "name": "#%%\n"
    }
   }
  }
 ],
 "metadata": {
  "kernelspec": {
   "display_name": "Python 3",
   "language": "python",
   "name": "python3"
  },
  "language_info": {
   "codemirror_mode": {
    "name": "ipython",
    "version": 2
   },
   "file_extension": ".py",
   "mimetype": "text/x-python",
   "name": "python",
   "nbconvert_exporter": "python",
   "pygments_lexer": "ipython2",
   "version": "2.7.6"
  }
 },
 "nbformat": 4,
 "nbformat_minor": 0
}