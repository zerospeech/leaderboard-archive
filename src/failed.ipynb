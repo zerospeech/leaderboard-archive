{
 "cells": [
  {
   "cell_type": "code",
   "execution_count": 4,
   "outputs": [],
   "source": [
    "# fix error with wrong parameters between sLM21 and abxLS\n",
    "import json\n",
    "from pathlib import Path\n",
    "from dataloader.models import ABXLS, SLM21\n",
    "\n",
    "with Path('data/tasks/abx/abxLS/abxLS-latest.json').open() as fp:\n",
    "    abxLS = ABXLS(**json.load(fp))\n",
    "\n",
    "with Path('data/tasks/sLM21/sLM21-latest.json').open() as fp:\n",
    "    slm21 = SLM21(**json.load(fp))\n",
    "\n",
    "\n",
    "def search_abx(model_id):\n",
    "    for k, i in enumerate(abxLS.data):\n",
    "        if i.model_id == model_id:\n",
    "            return k\n",
    "    return None\n",
    "\n",
    "for key, item in enumerate(slm21.data):\n",
    "    abx_k = search_abx(item.model_id)\n",
    "    if abx_k is not None:\n",
    "        abx_item = abxLS.data[abx_k]\n",
    "        for k, v in item.details.parameters['phonetic'].items():\n",
    "            abx_item.details.parameters[k] = v\n",
    "\n",
    "        for k, v in item.details.parameters['semantic'].items():\n",
    "            item.details.parameters[k] = v\n",
    "\n",
    "        del item.details.parameters['phonetic']\n",
    "        del item.details.parameters['semantic']\n",
    "\n",
    "\n",
    "with Path('data/abxLS.json').open('w') as fp:\n",
    "    fp.write(abxLS.json(indent=4))\n",
    "\n",
    "\n",
    "with Path('data/sLM21.json').open('w') as fp:\n",
    "    fp.write(slm21.json(indent=4))"
   ],
   "metadata": {
    "collapsed": false,
    "pycharm": {
     "name": "#%%\n"
    }
   }
  }
 ],
 "metadata": {
  "kernelspec": {
   "display_name": "Python 3",
   "language": "python",
   "name": "python3"
  },
  "language_info": {
   "codemirror_mode": {
    "name": "ipython",
    "version": 2
   },
   "file_extension": ".py",
   "mimetype": "text/x-python",
   "name": "python",
   "nbconvert_exporter": "python",
   "pygments_lexer": "ipython2",
   "version": "2.7.6"
  }
 },
 "nbformat": 4,
 "nbformat_minor": 0
}