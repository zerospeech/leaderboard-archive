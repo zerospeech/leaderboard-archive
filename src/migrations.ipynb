{
 "cells": [
  {
   "cell_type": "markdown",
   "source": [
    "List of scripts to migrate challenge leaderboards from v1 to v2 format\n",
    "All the challenges were cut down to specific benchmarks\n",
    "\n",
    "zr2015 -> ABX15, TD15\n",
    "zr2017 -> ABX17, TDE17\n",
    "zr2019 -> TTSO19\n",
    "zr2020 -> TTSO19, TD17\n",
    "zr2021 -> ABXLS, sLM21\n",
    "\n",
    "So the entries from each leaderboard need to be migrated to correspond to the new structure.\n",
    "Also, some fields were added to create uniform structure across leaderboard (user info, global model id, publication data, etc...)\n",
    "Those fields remain optional because information does not exist for older entries but allows to be compatible across leaderboards.\n",
    "The cells bellow each contain code to run migrations on a challenge."
   ],
   "metadata": {
    "collapsed": false,
    "pycharm": {
     "name": "#%% md\n"
    }
   }
  },
  {
   "cell_type": "code",
   "execution_count": null,
   "outputs": [],
   "source": [
    "# Migrate ABX-15 leaderboard data from zerospeech2015 (track1) leaderboard\n",
    "from pathlib import Path\n",
    "from dataloader.convert import modernize_abx15\n",
    "root_dir = Path(\"data/challenges/zr2015/entries/track1\")\n",
    "leaderboardABX15 = modernize_abx15(root_dir)\n",
    "\n",
    "with Path(\"data/abx15.json\").open('w') as fp:\n",
    "    fp.write(leaderboardABX15.json(indent=4))"
   ],
   "metadata": {
    "collapsed": false,
    "pycharm": {
     "name": "#%%\n"
    }
   }
  },
  {
   "cell_type": "code",
   "execution_count": null,
   "outputs": [],
   "source": [
    "# Migrate ABX-17 leaderboard data from zerospeech2017 (track1) leaderboard\n",
    "from pathlib import Path\n",
    "from dataloader.convert import modernize_abx17\n",
    "root_dir = Path(\"data/challenges/zr2017/entries/track1\")\n",
    "leaderboardABX17 = modernize_abx17(root_dir)\n",
    "\n",
    "with Path(\"data/abx15.json\").open('w') as fp:\n",
    "    fp.write(leaderboardABX17.json(indent=4))"
   ],
   "metadata": {
    "collapsed": false,
    "pycharm": {
     "name": "#%%\n"
    }
   }
  },
  {
   "cell_type": "code",
   "execution_count": 5,
   "outputs": [],
   "source": [
    "# Migrate TDE-15 leaderboard data from zerospeech2015 (track2) leaderboard\n",
    "from pathlib import Path\n",
    "from dataloader.convert import modernize_tde15\n",
    "root_dir = Path(\"data/challenges/zr2015/entries/track2\")\n",
    "leaderboardTDE15 = modernize_tde15(root_dir)\n",
    "\n",
    "with Path(\"data/tde15.json\").open('w') as fp:\n",
    "    fp.write(leaderboardTDE15.json(indent=4))"
   ],
   "metadata": {
    "collapsed": false,
    "pycharm": {
     "name": "#%%\n"
    }
   }
  },
  {
   "cell_type": "code",
   "execution_count": 3,
   "outputs": [],
   "source": [
    "# Migrate TDE-17 leaderboard data from zerospeech2017 (track2) leaderboard\n",
    "from pathlib import Path\n",
    "from dataloader.convert import modernize_tde17\n",
    "root_dir = Path(\"data/challenges/zr2017/entries/track2\")\n",
    "entries2020 = Path(\"data/challenges/zr2020/entries/2017_task_track2\")\n",
    "leaderboardTDE17 = modernize_tde17(root_dir, include_2020=entries2020)\n",
    "\n",
    "with Path(\"data/tde17.json\").open('w') as fp:\n",
    "    fp.write(leaderboardTDE17.json(indent=4))"
   ],
   "metadata": {
    "collapsed": false,
    "pycharm": {
     "name": "#%%\n"
    }
   }
  },
  {
   "cell_type": "code",
   "execution_count": 21,
   "outputs": [],
   "source": [
    "# Migrate TTS0-19 leaderboard data from zerospeech2019 leaderboard\n",
    "from pathlib import Path\n",
    "from dataloader.convert import modernize_tts019\n",
    "\n",
    "root_dir = Path(\"data/challenges/zr2019/entries\")\n",
    "entries2020 = Path(\"data/challenges/zr2020/entries/2019_task\")\n",
    "leaderboardTTS019 = modernize_tts019(root_dir, include_2020=entries2020)\n",
    "\n",
    "with Path(\"data/tts019.json\").open('w') as fp:\n",
    "    fp.write(leaderboardTTS019.json(indent=4))"
   ],
   "metadata": {
    "collapsed": false,
    "pycharm": {
     "name": "#%%\n"
    }
   }
  },
  {
   "cell_type": "code",
   "execution_count": 13,
   "outputs": [],
   "source": [
    "# Migrate sLM-21 leaderboard data from zerospeech2021 leaderboard\n",
    "from pathlib import Path\n",
    "from dataloader.convert import modernize_slm21\n",
    "root_dir = Path(\"data/challenges/zr2021/entries\")\n",
    "leaderboardsLM21 = modernize_slm21(root_dir)\n",
    "\n",
    "with Path(\"data/sLM21.json\").open('w') as fp:\n",
    "    fp.write(leaderboardsLM21.json(indent=4))"
   ],
   "metadata": {
    "collapsed": false,
    "pycharm": {
     "name": "#%%\n"
    }
   }
  },
  {
   "cell_type": "code",
   "execution_count": 15,
   "outputs": [],
   "source": [
    "# Migrate ABX-LS leaderboard data from zerospeech2021 leaderboard\n",
    "from pathlib import Path\n",
    "from dataloader.convert import modernize_abxls\n",
    "root_dir = Path(\"data/challenges/zr2021/entries\")\n",
    "leaderboardsABXLS = modernize_abxls(root_dir)\n",
    "\n",
    "with Path(\"data/abxLS.json\").open('w') as fp:\n",
    "    fp.write(leaderboardsABXLS.json(indent=4))"
   ],
   "metadata": {
    "collapsed": false,
    "pycharm": {
     "name": "#%%\n"
    }
   }
  },
  {
   "cell_type": "code",
   "execution_count": 1,
   "outputs": [],
   "source": [
    "# Migrate zr2021 extra entries -> ABX-LS, sLM21\n",
    "from pathlib import Path\n",
    "from dataloader.convert import modernize_abxls, modernize_slm21\n",
    "root_dir = Path(\"data/challenges/zr2021/extra_entries\")\n",
    "\n",
    "# Extract ABX scores\n",
    "with Path(\"data/abxLS-extras.json\").open(\"w\") as fp:\n",
    "    leaderboards_abxLS_extras = modernize_abxls(root_dir)\n",
    "    fp.write(leaderboards_abxLS_extras.json(indent=4))\n",
    "\n",
    "# Extract sLM scores\n",
    "with Path('data/sLM21-extras.json').open('w') as fp:\n",
    "    leaderboards_slLM21_extras = modernize_slm21(root_dir)\n",
    "    fp.write(leaderboards_slLM21_extras.json(indent=4))\n"
   ],
   "metadata": {
    "collapsed": false,
    "pycharm": {
     "name": "#%%\n"
    }
   }
  }
 ],
 "metadata": {
  "kernelspec": {
   "display_name": "Python 3 (ipykernel)",
   "language": "python",
   "name": "python3"
  },
  "language_info": {
   "codemirror_mode": {
    "name": "ipython",
    "version": 3
   },
   "file_extension": ".py",
   "mimetype": "text/x-python",
   "name": "python",
   "nbconvert_exporter": "python",
   "pygments_lexer": "ipython3",
   "version": "3.8.10"
  }
 },
 "nbformat": 4,
 "nbformat_minor": 1
}